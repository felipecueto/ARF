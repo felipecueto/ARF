{
  "nbformat": 4,
  "nbformat_minor": 0,
  "metadata": {
    "colab": {
      "provenance": [],
      "include_colab_link": true
    },
    "kernelspec": {
      "name": "python3",
      "display_name": "Python 3"
    },
    "language_info": {
      "name": "python"
    }
  },
  "cells": [
    {
      "cell_type": "markdown",
      "metadata": {
        "id": "view-in-github",
        "colab_type": "text"
      },
      "source": [
        "<a href=\"https://colab.research.google.com/github/felipecueto/ARF/blob/main/Tarea1Informe.ipynb\" target=\"_parent\"><img src=\"https://colab.research.google.com/assets/colab-badge.svg\" alt=\"Open In Colab\"/></a>"
      ]
    },
    {
      "cell_type": "markdown",
      "source": [
        "## Descripción del sector\n",
        "El Sector Inmobiliario en Estados Unidos, impacta múltiples áreas como las economía locales y globales, además de ser un activo alternativo de inversión que requiere financiamiento.\n",
        "Esta industria contiene propiedades, desarrolló, tasaciones, comercialización, la venta, el arrendamiento y la administración de propiedades comerciales, industriales, residenciales y agrícolas. \n",
        "Dependiendo del área geográfica en el que se encuentre el interés de inversión es distinto, además de distintas economías nacionales y locales, aunque se mantiene constante la necesidad de las personas que siempre necesitarán una casa y las empresas necesitan oficinas, aunque esto en los últimos años ha ido cambiando gracias a la tecnología.\n",
        "En referencia a Estados Unidos, el sector inmobiliario sufrió transformaciones a medida que se evolucionó de una sociedad agrícola a una industrial. Durante la Revolución Industrial los centros urbanos crecieron a medida que la gente se mudaba a las ciudades para trabajar en las fábricas, aumentando la necesidad los edificios de oficinas, los centros comerciales, los hoteles, restaurantes, hogares crecieron. Para eso se necesitaba a alguien para desarrollar, vender, administrar todo, sobre todo financiamiento.\n",
        "\n"
      ],
      "metadata": {
        "id": "ySgJtrbEZo-L"
      }
    },
    {
      "cell_type": "markdown",
      "source": [
        "## Motivación\n",
        "La inversión en activos inmobiliarios es una forma de inversión alternativa con una baja correlación con la renta variable y fija. Esta además tiene ciertos beneficios que otros tipos de inversión no son posibles como es la protección inflacionaria, ventajas de impuestos, inversión en activos tangibles y retorno positivos en las peores crisis financieras.\n",
        "Por otro lado, este tipo de inversiones generan flujo constante de ingresos por lo que es una forma de capitalizar la inversión de inmediato. Activos de baja volatilidad, durante la pandemia quedó demostrado que la renta residencial es el tipo de inversión inmobiliaria que menos fluctúa en periodos de crisis. Por último, asegura preservación de capital dado que se invierte en activos de necesidad. \n",
        "En respaldo, en Estados Unidos existe escasez de hogares, lo que genera la necesidad de financiamiento.\n",
        "\n",
        "https://www.cnbc.com/2021/09/14/america-is-short-more-than-5-million-homes-study-says.html\n"
      ],
      "metadata": {
        "id": "-FrHmyeUZ9HN"
      }
    },
    {
      "cell_type": "markdown",
      "source": [
        "# Contexto\n",
        "Se definen mínimo 3 variables/activos y se describe(n) (estadísticamente) junto con la relación de esta(s) con la temática/sector elegido.\n",
        "\n"
      ],
      "metadata": {
        "id": "W3SdPx3KaDA7"
      }
    },
    {
      "cell_type": "code",
      "source": [
        "# Ingesta Datos y estadistica descriptiva\n",
        "\n",
        "import pandas as pd\n",
        "import requests\n",
        "\n",
        "def informacion (simbolo): #Función de llamado de API, devuelve los datos\n",
        "    symbol = simbolo\n",
        "    apikey = 'BUSCAR APIKEY EN LA PAGINA DE ALPHAVANTAGE'\n",
        "    url = f\"https://www.alphavantage.co/query?function=TIME_SERIES_DAILY&symbol={symbol}&outputsize=full&apikey={apikey}&datatype=json\"\n",
        "    response = requests.get(url).json()['Time Series (Daily)']#Cambiando Time Series escogen el tipo de serie que necesitan, diaria, mensual, anual, etc.\n",
        "    return pd.DataFrame.from_dict(response)\n",
        "\n",
        "sigla = 'COLOCAR SIGLA DE ACTIVO ESTUDIADO'\n",
        "\n",
        "Datos = informacion(sigla)\n",
        "\n",
        "\n",
        "keys = list(Datos.keys())\n",
        "filteredKeys = []\n",
        "\n",
        "year_range=[2015, 2022] #Creación del rango de años a utilizar\n",
        "years = []\n",
        "for y in range(year_range[0], year_range[1]+1):\n",
        "    years.append(y)\n",
        "\n",
        "\n",
        "for key in keys: #Filtrar llaves según años que se quieren calcular\n",
        "    if int(key[:4]) >= years[0] and int(key[:4]) <= years[-1]:\n",
        "        filteredKeys.append(key)\n",
        "\n",
        "\n",
        "data = pd.DataFrame()\n",
        "\n",
        "\n",
        "\n",
        "for key in filteredKeys: #Crear un Dataframe con toda la informacio4n que se utilizará\n",
        "    for year in years:\n",
        "        if int(key[:4]) == year:\n",
        "            data[key] = Datos[key]\n",
        "\n",
        "\n",
        "\n",
        "data = data.transpose()\n",
        "print(data)\n"
      ],
      "metadata": {
        "id": "mh1MlFvjaexK",
        "colab": {
          "base_uri": "https://localhost:8080/"
        },
        "outputId": "b511ddfb-98ae-454d-bd62-caa23e0b573e"
      },
      "execution_count": null,
      "outputs": [
        {
          "output_type": "stream",
          "name": "stderr",
          "text": [
            "/usr/local/lib/python3.7/dist-packages/ipykernel_launcher.py:40: PerformanceWarning: DataFrame is highly fragmented.  This is usually the result of calling `frame.insert` many times, which has poor performance.  Consider joining all columns at once using pd.concat(axis=1) instead.  To get a de-fragmented frame, use `newframe = frame.copy()`\n"
          ]
        },
        {
          "output_type": "stream",
          "name": "stdout",
          "text": [
            "             1. open   2. high    3. low  4. close 5. volume\n",
            "2022-09-02  129.5000  131.3800  126.3900  127.5100  57429829\n",
            "2022-09-01  126.0000  128.0200  123.6600  127.8200  56636145\n",
            "2022-08-31  129.4500  130.5900  126.7400  126.7700  53648702\n",
            "2022-08-30  131.2500  132.0745  126.8500  128.7300  49202990\n",
            "2022-08-29  129.9000  131.9499  128.7700  129.7900  47967685\n",
            "...              ...       ...       ...       ...       ...\n",
            "2015-01-08  300.3200  303.1400  296.1100  300.4600   3088398\n",
            "2015-01-07  297.5000  301.2800  295.3300  298.4200   2640349\n",
            "2015-01-06  302.2400  303.0000  292.3800  295.2900   3519034\n",
            "2015-01-05  307.0100  308.3800  300.8500  302.1900   2774231\n",
            "2015-01-02  312.5800  314.7500  306.9601  308.5200   2788101\n",
            "\n",
            "[1932 rows x 5 columns]\n"
          ]
        }
      ]
    },
    {
      "cell_type": "markdown",
      "source": [
        "## Deuda\n",
        "Describe activo(s), e.g., acciones comunes, preferentes y bonos relacionados, aplicando conceptos del capítulo 15 RWJ.\n",
        "\n",
        "Puede apoyarse en un gráfico\n",
        "\n"
      ],
      "metadata": {
        "id": "sPhResCqaixG"
      }
    },
    {
      "cell_type": "markdown",
      "source": [
        "## Emisión\n",
        "21 de junio de 2007 - Blackstone anunció hoy que la oferta pública inicial de 133 333 334 unidades comunes que representan intereses de socios limitados en The Blackstone Group L.P. tiene un precio de 31,00 $ por unidad común. Se espera que las unidades comunes comiencen a cotizar mañana, 22 de junio de 2007, en la Bolsa de Valores de Nueva York bajo el símbolo \"BX\". El Grupo Blackstone ha concedido a los suscriptores una opción de 30 días para comprar hasta 20.000.000 de unidades comunes adicionales al precio de oferta pública menos descuentos de suscripción.\n",
        "Los valores con garantía hipotecas comerciales (CMBS) son productos de inversión de renta fija que están respaldados por hipotecas en propiedades comerciales en lugar de bienes raíces residenciales. CMBS puede proporcionar liquidez tanto a inversores inmobiliarios como a prestamistas comerciales. (tasa flotante 30%, tasa fija 40% aproximadamente)\n"
      ],
      "metadata": {
        "id": "6yBPo42NappD"
      }
    },
    {
      "cell_type": "markdown",
      "source": [
        "## Derivados\n",
        "Una opción es un contrato que otorga a su propietario el derecho de comprar o vender algún activo a un precio fijo en una fecha determinada.\n",
        "La opción call o de compra es el tipo más común. Una opción de compra otorga al propietario el derecho de adquirir un activo a un precio fijo durante un periodo determinado.\n",
        "\n",
        "\n",
        "\n",
        "Una opción put o de venta se puede considerar lo contrario de una opción de compra. Así como una opción de compra da al tenedor el derecho de adquirir las acciones a un precio fijo, una opción de venta le da el derecho de vender las acciones a un precio fijo.\n",
        "\n"
      ],
      "metadata": {
        "id": "aAzfmNqgasAG"
      }
    }
  ]
}