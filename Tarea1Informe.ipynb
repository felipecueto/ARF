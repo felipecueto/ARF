{
  "nbformat": 4,
  "nbformat_minor": 0,
  "metadata": {
    "colab": {
      "provenance": [],
      "include_colab_link": true
    },
    "kernelspec": {
      "name": "python3",
      "display_name": "Python 3"
    },
    "language_info": {
      "name": "python"
    }
  },
  "cells": [
    {
      "cell_type": "markdown",
      "metadata": {
        "id": "view-in-github",
        "colab_type": "text"
      },
      "source": [
        "<a href=\"https://colab.research.google.com/github/felipecueto/ARF/blob/main/Tarea1Informe.ipynb\" target=\"_parent\"><img src=\"https://colab.research.google.com/assets/colab-badge.svg\" alt=\"Open In Colab\"/></a>"
      ]
    },
    {
      "cell_type": "markdown",
      "source": [
        "## Descripción del sector\n",
        "Se define un sector con precisión y sin ambigüedades. Hay referencia a artículos científicos que caracterizan el sector.\n",
        "\n"
      ],
      "metadata": {
        "id": "ySgJtrbEZo-L"
      }
    },
    {
      "cell_type": "markdown",
      "source": [
        "## Motivación\n",
        "Se describe una motivación acorde con la temática que justifica la elección. Hay referencia a argumentos que motivan el estudio del sector en la literatura.\n",
        "\n",
        "Se hace referencia a argumentos presentados en el foro de expectativas por los integrantes del grupo."
      ],
      "metadata": {
        "id": "-FrHmyeUZ9HN"
      }
    },
    {
      "cell_type": "markdown",
      "source": [
        "# Contexto\n",
        "Se definen mínimo 3 variables/activos y se describe(n) (estadísticamente) junto con la relación de esta(s) con la temática/sector elegido.\n",
        "\n"
      ],
      "metadata": {
        "id": "W3SdPx3KaDA7"
      }
    },
    {
      "cell_type": "code",
      "source": [
        "# Ingesta Datos y estadistica descriptiva\n",
        "\n",
        "import pandas as pd\n",
        "import requests\n",
        "\n",
        "def informacion (simbolo): #Función de llamado de API, devuelve los datos\n",
        "    symbol = simbolo\n",
        "    apikey = 'BUSCAR APIKEY EN LA PAGINA DE ALPHAVANTAGE'\n",
        "    url = f\"https://www.alphavantage.co/query?function=TIME_SERIES_DAILY&symbol={symbol}&outputsize=full&apikey={apikey}&datatype=json\"\n",
        "    response = requests.get(url).json()['Time Series (Daily)']#Cambiando Time Series escogen el tipo de serie que necesitan, diaria, mensual, anual, etc.\n",
        "    return pd.DataFrame.from_dict(response)\n",
        "\n",
        "sigla = 'COLOCAR SIGLA DE ACTIVO ESTUDIADO'\n",
        "\n",
        "Datos = informacion(sigla)\n",
        "\n",
        "\n",
        "keys = list(Datos.keys())\n",
        "filteredKeys = []\n",
        "\n",
        "year_range=[2015, 2022] #Creación del rango de años a utilizar\n",
        "years = []\n",
        "for y in range(year_range[0], year_range[1]+1):\n",
        "    years.append(y)\n",
        "\n",
        "\n",
        "for key in keys: #Filtrar llaves según años que se quieren calcular\n",
        "    if int(key[:4]) >= years[0] and int(key[:4]) <= years[-1]:\n",
        "        filteredKeys.append(key)\n",
        "\n",
        "\n",
        "data = pd.DataFrame()\n",
        "\n",
        "\n",
        "\n",
        "for key in filteredKeys: #Crear un Dataframe con toda la informacio4n que se utilizará\n",
        "    for year in years:\n",
        "        if int(key[:4]) == year:\n",
        "            data[key] = Datos[key]\n",
        "\n",
        "\n",
        "\n",
        "data = data.transpose()\n",
        "print(data)\n"
      ],
      "metadata": {
        "id": "mh1MlFvjaexK",
        "colab": {
          "base_uri": "https://localhost:8080/"
        },
        "outputId": "b511ddfb-98ae-454d-bd62-caa23e0b573e"
      },
      "execution_count": null,
      "outputs": [
        {
          "output_type": "stream",
          "name": "stderr",
          "text": [
            "/usr/local/lib/python3.7/dist-packages/ipykernel_launcher.py:40: PerformanceWarning: DataFrame is highly fragmented.  This is usually the result of calling `frame.insert` many times, which has poor performance.  Consider joining all columns at once using pd.concat(axis=1) instead.  To get a de-fragmented frame, use `newframe = frame.copy()`\n"
          ]
        },
        {
          "output_type": "stream",
          "name": "stdout",
          "text": [
            "             1. open   2. high    3. low  4. close 5. volume\n",
            "2022-09-02  129.5000  131.3800  126.3900  127.5100  57429829\n",
            "2022-09-01  126.0000  128.0200  123.6600  127.8200  56636145\n",
            "2022-08-31  129.4500  130.5900  126.7400  126.7700  53648702\n",
            "2022-08-30  131.2500  132.0745  126.8500  128.7300  49202990\n",
            "2022-08-29  129.9000  131.9499  128.7700  129.7900  47967685\n",
            "...              ...       ...       ...       ...       ...\n",
            "2015-01-08  300.3200  303.1400  296.1100  300.4600   3088398\n",
            "2015-01-07  297.5000  301.2800  295.3300  298.4200   2640349\n",
            "2015-01-06  302.2400  303.0000  292.3800  295.2900   3519034\n",
            "2015-01-05  307.0100  308.3800  300.8500  302.1900   2774231\n",
            "2015-01-02  312.5800  314.7500  306.9601  308.5200   2788101\n",
            "\n",
            "[1932 rows x 5 columns]\n"
          ]
        }
      ]
    },
    {
      "cell_type": "markdown",
      "source": [
        "## Deuda\n",
        "Describe activo(s), e.g., acciones comunes, preferentes y bonos relacionados, aplicando conceptos del capítulo 15 RWJ.\n",
        "\n",
        "Puede apoyarse en un gráfico\n",
        "\n"
      ],
      "metadata": {
        "id": "sPhResCqaixG"
      }
    },
    {
      "cell_type": "markdown",
      "source": [
        "## Emisión\n",
        "Describe proceso de emisión relacionado caracterizando el tipo de colocación en contraste con el procedimiento básico descrito en el capítulo RWJ 20"
      ],
      "metadata": {
        "id": "6yBPo42NappD"
      }
    },
    {
      "cell_type": "markdown",
      "source": [
        "## Derivados\n",
        "Describe un activo derivado relacionado y muestra datos de su evolución. Aplica procedimiento de valoración de un derivado por inclusión en estructura de retornos."
      ],
      "metadata": {
        "id": "aAzfmNqgasAG"
      }
    }
  ]
}