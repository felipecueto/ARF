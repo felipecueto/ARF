{
  "nbformat": 4,
  "nbformat_minor": 0,
  "metadata": {
    "colab": {
      "provenance": [],
      "include_colab_link": true
    },
    "kernelspec": {
      "name": "python3",
      "display_name": "Python 3"
    },
    "language_info": {
      "name": "python"
    }
  },
  "cells": [
    {
      "cell_type": "markdown",
      "metadata": {
        "id": "view-in-github",
        "colab_type": "text"
      },
      "source": [
        "<a href=\"https://colab.research.google.com/github/felipecueto/ARF/blob/main/Tarea1Informe.ipynb\" target=\"_parent\"><img src=\"https://colab.research.google.com/assets/colab-badge.svg\" alt=\"Open In Colab\"/></a>"
      ]
    },
    {
      "cell_type": "markdown",
      "source": [
        "## Descripción del sector\n",
        "El Sector Inmobiliario en Estados Unidos, impacta múltiples áreas como las economía locales y globales, además de ser un activo alternativo de inversión que requiere financiamiento.\n",
        "Esta industria contiene propiedades, desarrolló, tasaciones, comercialización, la venta, el arrendamiento y la administración de propiedades comerciales, industriales, residenciales y agrícolas. \n",
        "Dependiendo del área geográfica en el que se encuentre el interés de inversión es distinto, además de distintas economías nacionales y locales, aunque se mantiene constante la necesidad de las personas que siempre necesitarán una casa y las empresas necesitan oficinas, aunque esto en los últimos años ha ido cambiando gracias a la tecnología.\n",
        "En referencia a Estados Unidos, el sector inmobiliario sufrió transformaciones a medida que se evolucionó de una sociedad agrícola a una industrial. Durante la Revolución Industrial los centros urbanos crecieron a medida que la gente se mudaba a las ciudades para trabajar en las fábricas, aumentando la necesidad los edificios de oficinas, los centros comerciales, los hoteles, restaurantes, hogares crecieron. Para eso se necesitaba a alguien para desarrollar, vender, administrar todo, sobre todo financiamiento.\n",
        "\n",
        "\n"
      ],
      "metadata": {
        "id": "ySgJtrbEZo-L"
      }
    },
    {
      "cell_type": "markdown",
      "source": [
        "## Motivación\n",
        "La inversión en activos inmobiliarios es una forma de inversión alternativa con una baja correlación con la renta variable y fija. Esta además tiene ciertos beneficios que otros tipos de inversión no son posibles como es la protección inflacionaria, ventajas de impuestos, inversión en activos tangibles y retorno positivos en las peores crisis financieras.\n",
        "Por otro lado, este tipo de inversiones generan flujo constante de ingresos por lo que es una forma de capitalizar la inversión de inmediato. Activos de baja volatilidad, durante la pandemia quedó demostrado que la renta residencial es el tipo de inversión inmobiliaria que menos fluctúa en periodos de crisis. Por último, asegura preservación de capital dado que se invierte en activos de necesidad. \n",
        "En respaldo, en Estados Unidos existe escasez de hogares, lo que genera la necesidad de financiamiento.\n",
        "https://www.cnbc.com/2021/09/14/america-is-short-more-than-5-million-homes-study-says.html\n"
      ],
      "metadata": {
        "id": "-FrHmyeUZ9HN"
      }
    },
    {
      "cell_type": "markdown",
      "source": [
        "# Contexto\n",
        "Se definen mínimo 3 variables/activos y se describe(n) (estadísticamente) junto con la relación de esta(s) con la temática/sector elegido.\n",
        "\n",
        "Las tres variables que se buscarán seguir serán:\n",
        "\n",
        "\n",
        "\n",
        "*   Acciones de la empresa Blackstone: Es una empresa que se esta diseñada para dar a ciertos inversionistas fuera de EE. UU. la capacidad de invertir en Blackstone Real Estate, invierte sus activos en BREIT, y BREIT es una inmobiliaria que invierte principalmente en comerciales estadounidenses establecidos y bienes raíces. \n",
        "*   ETF Vanguard Real Estate (VTF): Es un instrumento financiero que ofrece exposición física y es tenedor directo de los valores en el sector inmobiliario, por lo que el rendimiento de sus acciones será equivalente al rendimiento de las acciones que componen el índice de referencia.\n",
        "*   Tasas de interés de EEUU: Las tasas de interés son una variable macroeconómica que influye direcamente en el desarrollo del sector inmobiliario, ya que dependiendo de cual sea el nivel de tasas puede existir una expasión en el sector (tasas bajas) o mas bien un contracción en este (tasas altas). \n",
        "\n",
        "\n",
        "\n"
      ],
      "metadata": {
        "id": "W3SdPx3KaDA7"
      }
    },
    {
      "cell_type": "code",
      "source": [
        "# Ingesta Datos y estadistica descriptiva\n",
        "\n",
        "import pandas as pd\n",
        "import requests\n",
        "\n",
        "def informacion (simbolo): #Función de llamado de API, devuelve los datos\n",
        "    symbol = simbolo\n",
        "    apikey = 'BUSCAR APIKEY EN LA PAGINA DE ALPHAVANTAGE'\n",
        "    url = f\"https://www.alphavantage.co/query?function=TIME_SERIES_DAILY&symbol={symbol}&outputsize=full&apikey={apikey}&datatype=json\"\n",
        "    response = requests.get(url).json()['Time Series (Daily)']#Cambiando Time Series escogen el tipo de serie que necesitan, diaria, mensual, anual, etc.\n",
        "    return pd.DataFrame.from_dict(response)\n",
        "\n",
        "sigla = 'BX'\n",
        "\n",
        "Datos = informacion(sigla)\n",
        "\n",
        "\n",
        "keys = list(Datos.keys())\n",
        "filteredKeys = []\n",
        "\n",
        "year_range=[2015, 2022] #Creación del rango de años a utilizar\n",
        "years = []\n",
        "for y in range(year_range[0], year_range[1]+1):\n",
        "    years.append(y)\n",
        "\n",
        "\n",
        "for key in keys: #Filtrar llaves según años que se quieren calcular\n",
        "    if int(key[:4]) >= years[0] and int(key[:4]) <= years[-1]:\n",
        "        filteredKeys.append(key)\n",
        "\n",
        "\n",
        "data = pd.DataFrame()\n",
        "\n",
        "\n",
        "\n",
        "for key in filteredKeys: #Crear un Dataframe con toda la informacio4n que se utilizará\n",
        "    for year in years:\n",
        "        if int(key[:4]) == year:\n",
        "            data[key] = Datos[key]\n",
        "\n",
        "\n",
        "\n",
        "data = data.transpose()\n",
        "print(data)\n"
      ],
      "metadata": {
        "id": "mh1MlFvjaexK",
        "colab": {
          "base_uri": "https://localhost:8080/"
        },
        "outputId": "38853e28-edc4-495c-a4c7-806a703cc418"
      },
      "execution_count": null,
      "outputs": [
        {
          "output_type": "stream",
          "name": "stderr",
          "text": [
            "/usr/local/lib/python3.7/dist-packages/ipykernel_launcher.py:39: PerformanceWarning: DataFrame is highly fragmented.  This is usually the result of calling `frame.insert` many times, which has poor performance.  Consider joining all columns at once using pd.concat(axis=1) instead.  To get a de-fragmented frame, use `newframe = frame.copy()`\n"
          ]
        },
        {
          "output_type": "stream",
          "name": "stdout",
          "text": [
            "             1. open   2. high    3. low  4. close 5. volume\n",
            "2022-09-13   96.7600   96.7800   93.6200   94.3700   5168491\n",
            "2022-09-12  100.5000  102.4000  100.0021  100.8200   2292721\n",
            "2022-09-09   97.5600  100.0447   97.2700   99.6700   2309804\n",
            "2022-09-08   95.0400   97.2300   94.7400   96.9000   2607792\n",
            "2022-09-07   93.7700   96.7000   93.6100   96.3400   2067002\n",
            "...              ...       ...       ...       ...       ...\n",
            "2015-01-08   33.8000   33.9150   33.6100   33.7100   3503784\n",
            "2015-01-07   33.3000   33.6450   33.0000   33.4500   2517395\n",
            "2015-01-06   33.7100   33.7500   32.3600   32.9800   3354055\n",
            "2015-01-05   33.8800   34.0600   33.1500   33.6300   3015357\n",
            "2015-01-02   33.9800   34.2700   33.7200   34.1300   2585789\n",
            "\n",
            "[1938 rows x 5 columns]\n"
          ]
        }
      ]
    },
    {
      "cell_type": "markdown",
      "source": [
        "## Deuda\n",
        "\n",
        "La empresa Blackstone tiene una serie de acciones comunes única que se ofrece en el NYSE, no cuenta con accicones preferentes. Cabe seañalar que desde su creación la empresa nunca a optado por una re compra de sus acciones emitidas. Por otor lado, esta misma empresa a emitido bonos corporativos de larga duración, por ejemplo el 22 de mayo de este año anunció la emisión de una serie de bonos senior en euros para fines corporativos generales. Estos bonos se ofrecidos y serán venddidos a compradores institucionales cualificados en Estados Unidos de acuerdo con la norma 144A y fuera de los Estados Unidos de acuerdo con el Reglamento S de la Ley de Valores de 1933. \n",
        "\n",
        "\n",
        "\n",
        "\n",
        "\n",
        "(https://es.vida-estilo.yahoo.com/blackstone-ofrecer%C3%A1-bonos-senior-denominados-131000500.html?guccounter=1&guce_referrer=aHR0cHM6Ly93d3cuZ29vZ2xlLmNvbS8&guce_referrer_sig=AQAAACybBwGwXI6H3_a0svL1UjtR083PgCVl_Da_guTyZFcBNCtz8RWiJ0ko9SLt0e0h8VsfMQpOTd4Y4Z6HvRrRKsTa598IbneXnERnZuXUL68SzAHSOuw6HrycmGEC4YDAyTrzF9oeb_LyDRmM-znBAfwup6q5Fg_GSx9_nyWEe5H1)\n",
        "\n"
      ],
      "metadata": {
        "id": "sPhResCqaixG"
      }
    },
    {
      "cell_type": "markdown",
      "source": [
        "## Emisión\n",
        "Describe proceso de emisión relacionado caracterizando el tipo de colocación en contraste con el procedimiento básico descrito en el capítulo RWJ 20\n",
        " \n",
        "21 de junio de 2007 - Blackstone anunció hoy que la oferta pública inicial de 133 333 334 unidades comunes que representan intereses de socios limitados en The Blackstone Group L.P. tiene un precio de 31,00 $ por unidad común. Se espera que las unidades comunes comiencen a cotizar mañana, 22 de junio de 2007, en la Bolsa de Valores de Nueva York bajo el símbolo \"BX\". El Grupo Blackstone ha concedido a los suscriptores una opción de 30 días para comprar hasta 20.000.000 de unidades comunes adicionales al precio de oferta pública menos descuentos de suscripción.\n",
        "Los valores con garantía hipotecas comerciales (CMBS) son productos de inversión de renta fija que están respaldados por hipotecas en propiedades comerciales en lugar de bienes raíces residenciales. CMBS puede proporcionar liquidez tanto a inversores inmobiliarios como a prestamistas comerciales. (tasa flotante 30%, tasa fija 40% aproximadamente)\n"
      ],
      "metadata": {
        "id": "6yBPo42NappD"
      }
    },
    {
      "cell_type": "markdown",
      "source": [
        "## Derivados\n",
        "Una opción es un contrato que otorga a su propietario el derecho de comprar o vender algún activo a un precio fijo en una fecha determinada.\n",
        "La opción call o de compra es el tipo más común. Una opción de compra otorga al propietario el derecho de adquirir un activo a un precio fijo durante un periodo determinado.\n",
        "\n",
        "Una opción put o de venta se puede considerar lo contrario de una opción de compra. Así como una opción de compra da al tenedor el derecho de adquirir las acciones a un precio fijo, una opción de venta le da el derecho de vender las acciones a un precio fijo.\n",
        "\n",
        "En el link que se presenta a continuación podemos observar opciones sobre las acciones de blackstone. \n",
        "\n",
        "https://es.finance.yahoo.com/quote/BX/options?p=BX"
      ],
      "metadata": {
        "id": "aAzfmNqgasAG"
      }
    }
  ]
}